{
 "cells": [
  {
   "cell_type": "code",
   "execution_count": null,
   "id": "19567f5e-6f9f-4ec2-97a6-3877c5dc7c4c",
   "metadata": {},
   "outputs": [],
   "source": [
    "#Q1. Create a Pandas Series that contains the following data: 4, 8, 15, 16, 23, and 42. Then, print the series."
   ]
  },
  {
   "cell_type": "code",
   "execution_count": null,
   "id": "0894c937-677f-4911-8d96-5ce4a44495c5",
   "metadata": {},
   "outputs": [],
   "source": [
    "#Q1> Answer"
   ]
  },
  {
   "cell_type": "code",
   "execution_count": 2,
   "id": "a7c64ef6-c3a7-47fa-bb36-94510096fa5c",
   "metadata": {},
   "outputs": [],
   "source": [
    "import pandas as pd\n",
    "\n",
    "# Create a Series with the given data\n",
    "data = [4, 8, 15, 16, 23, 42]\n",
    "my_series = pd.Series(data)"
   ]
  },
  {
   "cell_type": "code",
   "execution_count": 3,
   "id": "3c264c7d-20a5-42cd-bd14-2934d533da63",
   "metadata": {},
   "outputs": [
    {
     "name": "stdout",
     "output_type": "stream",
     "text": [
      "0     4\n",
      "1     8\n",
      "2    15\n",
      "3    16\n",
      "4    23\n",
      "5    42\n",
      "dtype: int64\n"
     ]
    }
   ],
   "source": [
    "# Print the Series\n",
    "print(my_series)"
   ]
  },
  {
   "cell_type": "code",
   "execution_count": null,
   "id": "dd9de2ac-3f48-44fa-8a5c-834e19ba8842",
   "metadata": {},
   "outputs": [],
   "source": [
    "#Q2. Create a variable of list type containing 10 elements in it, and apply pandas.Series function on the variable print it."
   ]
  },
  {
   "cell_type": "code",
   "execution_count": null,
   "id": "063acc6c-8850-4785-a472-60145742e481",
   "metadata": {},
   "outputs": [],
   "source": [
    "#Q2> Answer>"
   ]
  },
  {
   "cell_type": "code",
   "execution_count": 4,
   "id": "79514f79-6ce4-4338-8073-f6be69184898",
   "metadata": {},
   "outputs": [],
   "source": [
    "import pandas as pd\n",
    "\n",
    "# Create a list with 10 elements\n",
    "my_list = [3, 6, 9, 12, 15, 18, 21, 24, 27, 30]\n"
   ]
  },
  {
   "cell_type": "code",
   "execution_count": 5,
   "id": "6e633a1f-7774-4719-b26e-b19ddf4b44d0",
   "metadata": {},
   "outputs": [
    {
     "name": "stdout",
     "output_type": "stream",
     "text": [
      "0     3\n",
      "1     6\n",
      "2     9\n",
      "3    12\n",
      "4    15\n",
      "5    18\n",
      "6    21\n",
      "7    24\n",
      "8    27\n",
      "9    30\n",
      "dtype: int64\n"
     ]
    }
   ],
   "source": [
    "# Convert the list to a Pandas Series\n",
    "my_series = pd.Series(my_list)\n",
    "print(my_series)"
   ]
  },
  {
   "cell_type": "code",
   "execution_count": null,
   "id": "eb3639de-0dd1-437e-8200-7ff1e7075f31",
   "metadata": {},
   "outputs": [],
   "source": [
    "#Q3. Create a Pandas DataFrame that contains the following data:\n",
    "Name  Age    Gender\n",
    "Alice  25    Female\n",
    "Bob    30    Male\n",
    "Claire 27    Female\n",
    "Then, print the DataFrame."
   ]
  },
  {
   "cell_type": "code",
   "execution_count": null,
   "id": "ac363a14-f2f8-46cc-9839-5723961046f5",
   "metadata": {},
   "outputs": [],
   "source": [
    "#Q3.> Answer>"
   ]
  },
  {
   "cell_type": "code",
   "execution_count": 6,
   "id": "68d96107-f8f9-4cc4-852e-661ed7edaf7d",
   "metadata": {},
   "outputs": [],
   "source": [
    "import pandas as pd\n",
    "\n",
    "# Create a dictionary with the given data\n",
    "data = {'Name': ['Alice', 'Bob', 'Claire'],\n",
    "        'Age': [25, 30, 27],\n",
    "        'Gender': ['Female', 'Male', 'Female']}"
   ]
  },
  {
   "cell_type": "code",
   "execution_count": 7,
   "id": "98c37c35-e11f-4023-803d-81ba22d1bc16",
   "metadata": {},
   "outputs": [
    {
     "name": "stdout",
     "output_type": "stream",
     "text": [
      "     Name  Age  Gender\n",
      "0   Alice   25  Female\n",
      "1     Bob   30    Male\n",
      "2  Claire   27  Female\n"
     ]
    }
   ],
   "source": [
    "# Create a DataFrame from the dictionary\n",
    "df = pd.DataFrame(data)\n",
    "print(df)"
   ]
  },
  {
   "cell_type": "code",
   "execution_count": null,
   "id": "f98857bd-bffd-4999-8374-fa505e2b60d5",
   "metadata": {},
   "outputs": [],
   "source": [
    "#Q4. What is ‘DataFrame’ in pandas and how is it different from pandas.series? Explain with an example."
   ]
  },
  {
   "cell_type": "code",
   "execution_count": null,
   "id": "2f86495f-c62e-4bcb-ab99-18a195eb3350",
   "metadata": {},
   "outputs": [],
   "source": [
    "#Q4>Answer,"
   ]
  },
  {
   "cell_type": "code",
   "execution_count": null,
   "id": "ea18f908-5b12-488e-8daa-0757bf11bed3",
   "metadata": {},
   "outputs": [],
   "source": [
    "In pandas, a DataFrame is a two-dimensional, tabular data structure that can be thought of as an in-memory spreadsheet.\n",
    "It consists of rows and columns, where each column can have a different data type. \n",
    "You can think of a DataFrame as a collection of Series objects, where each column is a Series.\n",
    "It provides a powerful and flexible way to analyze and manipulate structured data."
   ]
  },
  {
   "cell_type": "code",
   "execution_count": null,
   "id": "e7c3c800-c973-48a7-a0f4-34d0f780e708",
   "metadata": {},
   "outputs": [],
   "source": [
    "On the other hand, a Series is a one-dimensional labeled array, essentially a single column of data with an associated index.\n",
    "It can be considered as a building block of a DataFrame. \n",
    "A DataFrame is a collection of Series objects, where each Series represents a column."
   ]
  },
  {
   "cell_type": "code",
   "execution_count": null,
   "id": "f27e3d8e-a2b7-43ad-accb-ecedf8ef1055",
   "metadata": {},
   "outputs": [],
   "source": [
    "#Q5. What are some common functions you can use to manipulate data in a Pandas DataFrame? Can you give an example of when you might use one of these functions?"
   ]
  },
  {
   "cell_type": "code",
   "execution_count": null,
   "id": "9720343b-c309-4bb7-bc72-fe2c44eaeb11",
   "metadata": {},
   "outputs": [],
   "source": [
    "#Q5>Answer"
   ]
  },
  {
   "cell_type": "code",
   "execution_count": null,
   "id": "2afb7f35-a3f2-437e-91ff-0bec8fddb1f9",
   "metadata": {},
   "outputs": [],
   "source": [
    "Pandas provides a variety of functions to manipulate and analyze data in a DataFrame.\n",
    "Here are some common functions along with examples.\n",
    "1>head() and tail()\n",
    "2>describe()\n",
    "3>info()\n",
    "4>sort_values()\n",
    "5>groupby()\n",
    "6>apply()\n",
    "7>drop(), fillna()"
   ]
  },
  {
   "cell_type": "code",
   "execution_count": null,
   "id": "11eade29-a2a2-4b77-9ba3-f272946adab2",
   "metadata": {},
   "outputs": [],
   "source": [
    "#Q6. Which of the following is mutable in nature Series, DataFrame, Panel?"
   ]
  },
  {
   "cell_type": "code",
   "execution_count": null,
   "id": "3e4c32a3-3d5f-4e2c-aa84-517c3425cde5",
   "metadata": {},
   "outputs": [],
   "source": [
    "#Q6>Answer."
   ]
  },
  {
   "cell_type": "code",
   "execution_count": null,
   "id": "a6209812-0446-477a-9c6e-ee2032d73c10",
   "metadata": {},
   "outputs": [],
   "source": [
    "Series is mutable, meaning we can modify its values, index, or other properties after it has been created. \n",
    "We can change individual elements, add or remove elements, and perform various operations on the Series.\n",
    "\n",
    "DataFrame: A DataFrame is also mutable. We can modify its columns, add or remove columns, \n",
    "and perform a wide range of operations on the DataFrame.\n",
    "\n",
    "Panel is deprecated and no longer available in recent versions of pandas."
   ]
  },
  {
   "cell_type": "code",
   "execution_count": null,
   "id": "c9b0cb78-e27f-47d0-b8ef-9a4db37074ee",
   "metadata": {},
   "outputs": [],
   "source": [
    "#Q7. Create a DataFrame using multiple Series. Explain with an example."
   ]
  },
  {
   "cell_type": "code",
   "execution_count": null,
   "id": "0a724e79-e9db-445f-9d95-9c4e622c1e2c",
   "metadata": {},
   "outputs": [],
   "source": [
    "#Q7.>Answer"
   ]
  },
  {
   "cell_type": "code",
   "execution_count": null,
   "id": "c63b331d-80f9-4280-b9ca-477af6540a79",
   "metadata": {},
   "outputs": [],
   "source": [
    "We can create a DataFrame using multiple Series by combining them into a dictionary,\n",
    "where the keys of the dictionary become the column names, and the values are the corresponding Series. \n",
    "Here is an example,"
   ]
  },
  {
   "cell_type": "code",
   "execution_count": 8,
   "id": "d9d0128c-6d55-4387-b78b-3b65943a6823",
   "metadata": {},
   "outputs": [],
   "source": [
    "import pandas as pd\n",
    "\n",
    "# Creating multiple Series\n",
    "name_series = pd.Series(['Alice', 'Bob', 'Claire'], name='Name')\n",
    "age_series = pd.Series([25, 30, 27], name='Age')\n",
    "gender_series = pd.Series(['Female', 'Male', 'Female'], name='Gender')"
   ]
  },
  {
   "cell_type": "code",
   "execution_count": 9,
   "id": "e527ac19-3e86-4aa5-8452-a63c96fc5b18",
   "metadata": {},
   "outputs": [
    {
     "name": "stdout",
     "output_type": "stream",
     "text": [
      "     Name  Age  Gender\n",
      "0   Alice   25  Female\n",
      "1     Bob   30    Male\n",
      "2  Claire   27  Female\n"
     ]
    }
   ],
   "source": [
    "# Creating a DataFrame using the Series\n",
    "df = pd.DataFrame({'Name': name_series, 'Age': age_series, 'Gender': gender_series})\n",
    "print(df)\n"
   ]
  },
  {
   "cell_type": "code",
   "execution_count": null,
   "id": "3d5badcf-ca46-4989-a15c-720c577a2f2b",
   "metadata": {},
   "outputs": [],
   "source": [
    "-Three Series (name_series, age_series, and gender_series) are created, each representing a column of the DataFrame.\n",
    "-A DataFrame (df) is then created using a dictionary where the keys are the column names, and the values are the corresponding Series.\n",
    "-The resulting DataFrame contains three columns: 'Name', 'Age', and 'Gender', with data from the respective Series."
   ]
  }
 ],
 "metadata": {
  "kernelspec": {
   "display_name": "Python 3 (ipykernel)",
   "language": "python",
   "name": "python3"
  },
  "language_info": {
   "codemirror_mode": {
    "name": "ipython",
    "version": 3
   },
   "file_extension": ".py",
   "mimetype": "text/x-python",
   "name": "python",
   "nbconvert_exporter": "python",
   "pygments_lexer": "ipython3",
   "version": "3.10.8"
  }
 },
 "nbformat": 4,
 "nbformat_minor": 5
}
